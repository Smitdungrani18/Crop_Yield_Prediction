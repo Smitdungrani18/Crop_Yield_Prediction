{
 "cells": [
  {
   "cell_type": "code",
   "execution_count": 1,
   "metadata": {
    "colab": {
     "base_uri": "https://localhost:8080/"
    },
    "id": "h8YIKSPasRYn",
    "outputId": "91ebfb3c-df37-4cfa-bae9-eea99f651399",
    "scrolled": true
   },
   "outputs": [
    {
     "name": "stdout",
     "output_type": "stream",
     "text": [
      "Requirement already satisfied: pandas in c:\\users\\smitd\\anaconda3\\lib\\site-packages (1.4.4)\n",
      "Requirement already satisfied: plotnine in c:\\users\\smitd\\anaconda3\\lib\\site-packages (0.10.1)\n",
      "Requirement already satisfied: python-dateutil>=2.8.1 in c:\\users\\smitd\\anaconda3\\lib\\site-packages (from pandas) (2.8.2)\n",
      "Requirement already satisfied: numpy>=1.18.5 in c:\\users\\smitd\\anaconda3\\lib\\site-packages (from pandas) (1.21.5)\n",
      "Requirement already satisfied: pytz>=2020.1 in c:\\users\\smitd\\anaconda3\\lib\\site-packages (from pandas) (2022.1)\n",
      "Requirement already satisfied: matplotlib>=3.5.0 in c:\\users\\smitd\\anaconda3\\lib\\site-packages (from plotnine) (3.5.2)\n",
      "Requirement already satisfied: mizani>=0.8.1 in c:\\users\\smitd\\anaconda3\\lib\\site-packages (from plotnine) (0.8.1)\n",
      "Requirement already satisfied: scipy>=1.5.0 in c:\\users\\smitd\\anaconda3\\lib\\site-packages (from plotnine) (1.9.1)\n",
      "Requirement already satisfied: statsmodels>=0.13.2 in c:\\users\\smitd\\anaconda3\\lib\\site-packages (from plotnine) (0.13.2)\n",
      "Requirement already satisfied: patsy>=0.5.1 in c:\\users\\smitd\\anaconda3\\lib\\site-packages (from plotnine) (0.5.2)\n",
      "Requirement already satisfied: pillow>=6.2.0 in c:\\users\\smitd\\anaconda3\\lib\\site-packages (from matplotlib>=3.5.0->plotnine) (9.2.0)\n",
      "Requirement already satisfied: kiwisolver>=1.0.1 in c:\\users\\smitd\\anaconda3\\lib\\site-packages (from matplotlib>=3.5.0->plotnine) (1.4.2)\n",
      "Requirement already satisfied: pyparsing>=2.2.1 in c:\\users\\smitd\\anaconda3\\lib\\site-packages (from matplotlib>=3.5.0->plotnine) (3.0.9)\n",
      "Requirement already satisfied: packaging>=20.0 in c:\\users\\smitd\\anaconda3\\lib\\site-packages (from matplotlib>=3.5.0->plotnine) (21.3)\n",
      "Requirement already satisfied: cycler>=0.10 in c:\\users\\smitd\\anaconda3\\lib\\site-packages (from matplotlib>=3.5.0->plotnine) (0.11.0)\n",
      "Requirement already satisfied: fonttools>=4.22.0 in c:\\users\\smitd\\anaconda3\\lib\\site-packages (from matplotlib>=3.5.0->plotnine) (4.25.0)\n",
      "Requirement already satisfied: palettable in c:\\users\\smitd\\anaconda3\\lib\\site-packages (from mizani>=0.8.1->plotnine) (3.3.0)\n",
      "Requirement already satisfied: tzdata in c:\\users\\smitd\\anaconda3\\lib\\site-packages (from mizani>=0.8.1->plotnine) (2022.7)\n",
      "Requirement already satisfied: six in c:\\users\\smitd\\anaconda3\\lib\\site-packages (from patsy>=0.5.1->plotnine) (1.16.0)\n"
     ]
    }
   ],
   "source": [
    "!pip install pandas plotnine \n",
    "# installation of plotline to make use of ggplot"
   ]
  },
  {
   "cell_type": "code",
   "execution_count": null,
   "metadata": {
    "id": "htE1k3AB37NP"
   },
   "outputs": [],
   "source": []
  },
  {
   "cell_type": "code",
   "execution_count": 2,
   "metadata": {
    "id": "qqRG4xzdRpG0"
   },
   "outputs": [],
   "source": [
    "from plotnine import * \n",
    "import pandas as pd\n",
    "import numpy as np\n",
    "from sklearn import linear_model # necessary package for linear regression\n",
    "\n",
    "import seaborn as sns\n",
    "import matplotlib.pyplot as plt #for visualization\n",
    "from sklearn.model_selection import train_test_split #for ml training and tesing split\n",
    "from sklearn.linear_model import LinearRegression  \n",
    "from sklearn import tree # package for decision tree\n",
    "from sklearn.preprocessing import OneHotEncoder\n",
    "import statsmodels.api as sm"
   ]
  },
  {
   "cell_type": "code",
   "execution_count": 3,
   "metadata": {
    "colab": {
     "base_uri": "https://localhost:8080/"
    },
    "id": "FKq7redJRvaP",
    "outputId": "8fe4fb7c-9261-4675-de69-ecb9e1658f5f"
   },
   "outputs": [
    {
     "name": "stdout",
     "output_type": "stream",
     "text": [
      "Unnamed: 0      int64\n",
      "Country        object\n",
      "Crop           object\n",
      "Year            int64\n",
      "yield           int64\n",
      "avg_rain      float64\n",
      "pesticide     float64\n",
      "avg_temp      float64\n",
      "dtype: object\n",
      "       Unnamed: 0   Country            Crop  Year  yield  avg_rain  pesticide  \\\n",
      "0               0   Albania           Maize  1990  36613    1485.0     121.00   \n",
      "1               1   Albania        Potatoes  1990  66667    1485.0     121.00   \n",
      "2               2   Albania     Rice, paddy  1990  23333    1485.0     121.00   \n",
      "3               3   Albania         Sorghum  1990  12500    1485.0     121.00   \n",
      "4               4   Albania        Soybeans  1990   7000    1485.0     121.00   \n",
      "...           ...       ...             ...   ...    ...       ...        ...   \n",
      "28237       28237  Zimbabwe     Rice, paddy  2013  22581     657.0    2550.07   \n",
      "28238       28238  Zimbabwe         Sorghum  2013   3066     657.0    2550.07   \n",
      "28239       28239  Zimbabwe        Soybeans  2013  13142     657.0    2550.07   \n",
      "28240       28240  Zimbabwe  Sweet potatoes  2013  22222     657.0    2550.07   \n",
      "28241       28241  Zimbabwe           Wheat  2013  22888     657.0    2550.07   \n",
      "\n",
      "       avg_temp  \n",
      "0         16.37  \n",
      "1         16.37  \n",
      "2         16.37  \n",
      "3         16.37  \n",
      "4         16.37  \n",
      "...         ...  \n",
      "28237     19.76  \n",
      "28238     19.76  \n",
      "28239     19.76  \n",
      "28240     19.76  \n",
      "28241     19.76  \n",
      "\n",
      "[28242 rows x 8 columns]\n"
     ]
    }
   ],
   "source": [
    "with open('yield_df.csv') as file:\n",
    "    df = pd.read_csv(file)\n",
    "print(df.dtypes)\n",
    "print(df)\n"
   ]
  },
  {
   "cell_type": "code",
   "execution_count": 4,
   "metadata": {
    "colab": {
     "base_uri": "https://localhost:8080/"
    },
    "id": "45hRpEvByo3Z",
    "outputId": "4718c8b9-4552-4359-e54b-9feb122878fd"
   },
   "outputs": [
    {
     "name": "stdout",
     "output_type": "stream",
     "text": [
      " Area                            object\n",
      "Year                              int64\n",
      "average_rain_fall_mm_per_year    object\n",
      "dtype: object\n",
      "             Area  Year average_rain_fall_mm_per_year\n",
      "0     Afghanistan  1985                           327\n",
      "1     Afghanistan  1986                           327\n",
      "2     Afghanistan  1987                           327\n",
      "3     Afghanistan  1989                           327\n",
      "4     Afghanistan  1990                           327\n",
      "...           ...   ...                           ...\n",
      "6722     Zimbabwe  2013                           657\n",
      "6723     Zimbabwe  2014                           657\n",
      "6724     Zimbabwe  2015                           657\n",
      "6725     Zimbabwe  2016                           657\n",
      "6726     Zimbabwe  2017                           657\n",
      "\n",
      "[6727 rows x 3 columns]\n"
     ]
    }
   ],
   "source": [
    "with open('rainfall.csv') as file:\n",
    "    df1 = pd.read_csv(file)\n",
    "print(df1.dtypes)\n",
    "print(df1)"
   ]
  },
  {
   "cell_type": "code",
   "execution_count": 5,
   "metadata": {
    "colab": {
     "base_uri": "https://localhost:8080/"
    },
    "id": "exUAEXa20pwt",
    "outputId": "9a6b3a96-5bd7-4f28-bd5f-16221b40e650"
   },
   "outputs": [
    {
     "data": {
      "text/plain": [
       "31"
      ]
     },
     "execution_count": 5,
     "metadata": {},
     "output_type": "execute_result"
    }
   ],
   "source": [
    "len(df1['Year'].unique())"
   ]
  },
  {
   "cell_type": "code",
   "execution_count": 6,
   "metadata": {
    "colab": {
     "base_uri": "https://localhost:8080/"
    },
    "id": "q-uvZ9zHzJ10",
    "outputId": "a20c5215-dcb0-4ef9-9be0-cf834d983363"
   },
   "outputs": [
    {
     "name": "stdout",
     "output_type": "stream",
     "text": [
      "Domain      object\n",
      "Area        object\n",
      "Element     object\n",
      "Item        object\n",
      "Year         int64\n",
      "Unit        object\n",
      "Value      float64\n",
      "dtype: object\n",
      "              Domain      Area Element                Item  Year  \\\n",
      "0     Pesticides Use   Albania     Use  Pesticides (total)  1990   \n",
      "1     Pesticides Use   Albania     Use  Pesticides (total)  1991   \n",
      "2     Pesticides Use   Albania     Use  Pesticides (total)  1992   \n",
      "3     Pesticides Use   Albania     Use  Pesticides (total)  1993   \n",
      "4     Pesticides Use   Albania     Use  Pesticides (total)  1994   \n",
      "...              ...       ...     ...                 ...   ...   \n",
      "4344  Pesticides Use  Zimbabwe     Use  Pesticides (total)  2012   \n",
      "4345  Pesticides Use  Zimbabwe     Use  Pesticides (total)  2013   \n",
      "4346  Pesticides Use  Zimbabwe     Use  Pesticides (total)  2014   \n",
      "4347  Pesticides Use  Zimbabwe     Use  Pesticides (total)  2015   \n",
      "4348  Pesticides Use  Zimbabwe     Use  Pesticides (total)  2016   \n",
      "\n",
      "                              Unit    Value  \n",
      "0     tonnes of active ingredients   121.00  \n",
      "1     tonnes of active ingredients   121.00  \n",
      "2     tonnes of active ingredients   121.00  \n",
      "3     tonnes of active ingredients   121.00  \n",
      "4     tonnes of active ingredients   201.00  \n",
      "...                            ...      ...  \n",
      "4344  tonnes of active ingredients  3375.53  \n",
      "4345  tonnes of active ingredients  2550.07  \n",
      "4346  tonnes of active ingredients  2185.07  \n",
      "4347  tonnes of active ingredients  2185.07  \n",
      "4348  tonnes of active ingredients  2185.07  \n",
      "\n",
      "[4349 rows x 7 columns]\n"
     ]
    }
   ],
   "source": [
    "with open('pesticides.csv') as file:\n",
    "    df2 = pd.read_csv(file)\n",
    "print(df2.dtypes)\n",
    "print(df2)"
   ]
  },
  {
   "cell_type": "code",
   "execution_count": 7,
   "metadata": {
    "colab": {
     "base_uri": "https://localhost:8080/"
    },
    "id": "xyrzM8DczP53",
    "outputId": "37030b48-ff6f-4b8a-8440-58382ce1138f"
   },
   "outputs": [
    {
     "name": "stdout",
     "output_type": "stream",
     "text": [
      "year          int64\n",
      "country      object\n",
      "avg_temp    float64\n",
      "dtype: object\n",
      "       year         country  avg_temp\n",
      "0      1849  CÃ´te D'Ivoire     25.58\n",
      "1      1850  CÃ´te D'Ivoire     25.52\n",
      "2      1851  CÃ´te D'Ivoire     25.67\n",
      "3      1852  CÃ´te D'Ivoire       NaN\n",
      "4      1853  CÃ´te D'Ivoire       NaN\n",
      "...     ...             ...       ...\n",
      "71306  2009          Mexico     21.76\n",
      "71307  2010          Mexico     20.90\n",
      "71308  2011          Mexico     21.55\n",
      "71309  2012          Mexico     21.52\n",
      "71310  2013          Mexico     22.19\n",
      "\n",
      "[71311 rows x 3 columns]\n"
     ]
    }
   ],
   "source": [
    "with open('temp.csv') as file:\n",
    "    df3 = pd.read_csv(file)\n",
    "print(df3.dtypes)\n",
    "print(df3)"
   ]
  },
  {
   "cell_type": "code",
   "execution_count": 8,
   "metadata": {
    "colab": {
     "base_uri": "https://localhost:8080/"
    },
    "id": "okxOhGsNzQpY",
    "outputId": "97c6e95e-aaa8-42a6-fefe-afc8d7bd1cf2"
   },
   "outputs": [
    {
     "name": "stdout",
     "output_type": "stream",
     "text": [
      "Domain Code     object\n",
      "Domain          object\n",
      "Area Code        int64\n",
      "Area            object\n",
      "Element Code     int64\n",
      "Element         object\n",
      "Item Code        int64\n",
      "Item            object\n",
      "Year Code        int64\n",
      "Year             int64\n",
      "Unit            object\n",
      "Value            int64\n",
      "dtype: object\n",
      "      Domain Code Domain  Area Code         Area  Element Code Element  \\\n",
      "0              QC  Crops          2  Afghanistan          5419   Yield   \n",
      "1              QC  Crops          2  Afghanistan          5419   Yield   \n",
      "2              QC  Crops          2  Afghanistan          5419   Yield   \n",
      "3              QC  Crops          2  Afghanistan          5419   Yield   \n",
      "4              QC  Crops          2  Afghanistan          5419   Yield   \n",
      "...           ...    ...        ...          ...           ...     ...   \n",
      "56712          QC  Crops        181     Zimbabwe          5419   Yield   \n",
      "56713          QC  Crops        181     Zimbabwe          5419   Yield   \n",
      "56714          QC  Crops        181     Zimbabwe          5419   Yield   \n",
      "56715          QC  Crops        181     Zimbabwe          5419   Yield   \n",
      "56716          QC  Crops        181     Zimbabwe          5419   Yield   \n",
      "\n",
      "       Item Code   Item  Year Code  Year   Unit  Value  \n",
      "0             56  Maize       1961  1961  hg/ha  14000  \n",
      "1             56  Maize       1962  1962  hg/ha  14000  \n",
      "2             56  Maize       1963  1963  hg/ha  14260  \n",
      "3             56  Maize       1964  1964  hg/ha  14257  \n",
      "4             56  Maize       1965  1965  hg/ha  14400  \n",
      "...          ...    ...        ...   ...    ...    ...  \n",
      "56712         15  Wheat       2012  2012  hg/ha  24420  \n",
      "56713         15  Wheat       2013  2013  hg/ha  22888  \n",
      "56714         15  Wheat       2014  2014  hg/ha  21357  \n",
      "56715         15  Wheat       2015  2015  hg/ha  19826  \n",
      "56716         15  Wheat       2016  2016  hg/ha  18294  \n",
      "\n",
      "[56717 rows x 12 columns]\n"
     ]
    }
   ],
   "source": [
    "with open('yield.csv') as file:\n",
    "    df4 = pd.read_csv(file)\n",
    "print(df4.dtypes)\n",
    "print(df4)"
   ]
  },
  {
   "cell_type": "code",
   "execution_count": 9,
   "metadata": {
    "id": "HECUBnA-SoID"
   },
   "outputs": [],
   "source": [
    "#In initial steps, I started with data preproccessing to check if there are null values in the dataset. Furthermore, some feature names (column names) were renamed for better readability and understanding."
   ]
  },
  {
   "cell_type": "code",
   "execution_count": 10,
   "metadata": {
    "colab": {
     "base_uri": "https://localhost:8080/"
    },
    "id": "w2vJtR1HhPuM",
    "outputId": "03137d02-5049-447d-85b6-a63fa0be0634"
   },
   "outputs": [
    {
     "data": {
      "text/plain": [
       "Unnamed: 0    0\n",
       "Country       0\n",
       "Crop          0\n",
       "Year          0\n",
       "yield         0\n",
       "avg_rain      0\n",
       "pesticide     0\n",
       "avg_temp      0\n",
       "dtype: int64"
      ]
     },
     "execution_count": 10,
     "metadata": {},
     "output_type": "execute_result"
    }
   ],
   "source": [
    "df.isna().sum()"
   ]
  },
  {
   "cell_type": "code",
   "execution_count": 11,
   "metadata": {
    "colab": {
     "base_uri": "https://localhost:8080/"
    },
    "id": "OqS2_mZFSw2A",
    "outputId": "c4be3aad-924f-400e-ac48-cfe46d9a2ed9"
   },
   "outputs": [
    {
     "name": "stdout",
     "output_type": "stream",
     "text": [
      "Unnamed: 0    0\n",
      "Country       0\n",
      "Crop          0\n",
      "Year          0\n",
      "yield         0\n",
      "avg_rain      0\n",
      "pesticide     0\n",
      "avg_temp      0\n",
      "dtype: int64\n",
      "\n",
      " \n",
      "After renaming \n",
      "\n",
      "\n",
      "Country       object\n",
      "Crop          object\n",
      "Year           int64\n",
      "yield          int64\n",
      "avg_rain     float64\n",
      "pesticide    float64\n",
      "avg_temp     float64\n",
      "dtype: object\n"
     ]
    }
   ],
   "source": [
    "df=df.dropna(axis=0, how='all')  #dropping all rows where are completely empty\n",
    "null_data = df.isnull().sum() #summing up all null vales\n",
    "print(null_data) #printing the data\n",
    "#There is no NA and NULL values in the dataset. It is a clean dataset\n",
    "df=df.drop(['Unnamed: 0'], axis=1) #removing the first column from the dataset\n",
    "print('\\n \\nAfter renaming \\n\\n')\n",
    "df.rename(columns = {'hg/ha_yield':'yield', 'average_rain_fall_mm_per_year':'avg_rain','pesticides_tonnes':'pesticide', 'Item':'Crop','Area':'Country'}, inplace = True)\n",
    "print(df.dtypes) #above line I have renamed few columns for better usability then printed\n",
    "#Since, my data was already clean, I have still checked for if there is any null value."
   ]
  },
  {
   "cell_type": "code",
   "execution_count": 12,
   "metadata": {
    "colab": {
     "base_uri": "https://localhost:8080/"
    },
    "id": "MHZHIivfpOpw",
    "outputId": "05250f54-6cb9-4910-9ead-62a76099e185"
   },
   "outputs": [
    {
     "data": {
      "text/plain": [
       "Country\n",
       "India         327420324\n",
       "Brazil        167550306\n",
       "Mexico        130788528\n",
       "Japan         124470912\n",
       "Australia     109111062\n",
       "                ...    \n",
       "Estonia         3595638\n",
       "Namibia         3165475\n",
       "Sudan           1896346\n",
       "Montenegro      1645100\n",
       "Eritrea         1452416\n",
       "Name: yield, Length: 100, dtype: int64"
      ]
     },
     "execution_count": 12,
     "metadata": {},
     "output_type": "execute_result"
    }
   ],
   "source": [
    "df.groupby(['Country'],sort=True)['yield'].sum().nlargest(100)"
   ]
  },
  {
   "cell_type": "code",
   "execution_count": 13,
   "metadata": {
    "colab": {
     "base_uri": "https://localhost:8080/"
    },
    "id": "aPle3aEXqWzc",
    "outputId": "bb9dde6f-d867-464e-d227-74552d854d31"
   },
   "outputs": [
    {
     "data": {
      "text/plain": [
       "Crop                  Country       \n",
       "Cassava               India             142810624\n",
       "Potatoes              India              92122514\n",
       "                      Brazil             49602168\n",
       "                      United Kingdom     46705145\n",
       "                      Australia          45670386\n",
       "                                          ...    \n",
       "                      Greece              4630351\n",
       "Cassava               Argentina           4604308\n",
       "Plantains and others  El Salvador         4567920\n",
       "Potatoes              Mali                4500039\n",
       "Maize                 Chile               4481252\n",
       "Name: yield, Length: 100, dtype: int64"
      ]
     },
     "execution_count": 13,
     "metadata": {},
     "output_type": "execute_result"
    }
   ],
   "source": [
    "df.groupby(['Crop','Country'],sort=True)['yield'].sum().nlargest(100)"
   ]
  },
  {
   "cell_type": "code",
   "execution_count": null,
   "metadata": {
    "id": "d19i--MayGrF"
   },
   "outputs": [],
   "source": []
  },
  {
   "cell_type": "code",
   "execution_count": 14,
   "metadata": {
    "id": "m8tIX8PDqhBi"
   },
   "outputs": [],
   "source": [
    "#India is the highest for production of cassava and potatoes. Potatoes seems to be the dominated crop in the dataset, being the highest in 4 countries.\n",
    "\n",
    "#from 1990 and ends in 2013, that's 23 years worth of data for 101 countries."
   ]
  },
  {
   "cell_type": "code",
   "execution_count": 15,
   "metadata": {
    "id": "sV4Kj8hATGcH"
   },
   "outputs": [],
   "source": [
    "#Next step involves exploratory data analysis.\n",
    "#Firstly, I explored the relationships between all the features (column names) of the dataset, a good way to quickly check correlations among columns by visualizing the correlation matrix as a heatmap."
   ]
  },
  {
   "cell_type": "code",
   "execution_count": 16,
   "metadata": {
    "colab": {
     "base_uri": "https://localhost:8080/",
     "height": 593
    },
    "id": "5OLY3-XMrGkC",
    "outputId": "91a5d43b-898b-4a66-838b-a03cd8c9c638"
   },
   "outputs": [
    {
     "name": "stderr",
     "output_type": "stream",
     "text": [
      "C:\\Users\\smitd\\AppData\\Local\\Temp\\ipykernel_3228\\810835816.py:3: DeprecationWarning: `np.bool` is a deprecated alias for the builtin `bool`. To silence this warning, use `bool` by itself. Doing this will not modify any behavior and is safe. If you specifically wanted the numpy scalar type, use `np.bool_` here.\n",
      "Deprecated in NumPy 1.20; for more details and guidance: https://numpy.org/devdocs/release/1.20.0-notes.html#deprecations\n"
     ]
    },
    {
     "data": {
      "image/png": "[encoded data removed]",
      "text/plain": [
       "<Figure size 1100x900 with 2 Axes>"
      ]
     },
     "metadata": {},
     "output_type": "display_data"
    }
   ],
   "source": [
    "correlation_data=df.select_dtypes(include=[np.number]).corr()\n",
    "\n",
    "mask = np.zeros_like(correlation_data, dtype=np.bool)\n",
    "mask[np.triu_indices_from(mask)] = True\n",
    "\n",
    "f, ax = plt.subplots(figsize=(11, 9))\n",
    "\n",
    "# Generate a custom diverging colormap\n",
    "cmap = sns.palette=\"vlag\"\n",
    "\n",
    "# Draw the heatmap with the mask and correct aspect ratio\n",
    "sns.heatmap(correlation_data, mask=mask, cmap=cmap, vmax=.3, center=0,\n",
    "            annot=True, linewidths=.5, cbar_kws={\"shrink\": .5});"
   ]
  },
  {
   "cell_type": "code",
   "execution_count": 17,
   "metadata": {
    "id": "M7GcBCEuuFss"
   },
   "outputs": [],
   "source": [
    "#It can be seen from the above correlation map that there is no correlation between any of the colmuns in the dataframe."
   ]
  },
  {
   "cell_type": "code",
   "execution_count": 18,
   "metadata": {
    "id": "13_ds9vxTtzr"
   },
   "outputs": [],
   "source": [
    "#It can be observed from the correlation matrix that there is no significant correlation among the features (column names).\n",
    "#Next, I visualized crop-wise total yield. Using this, we can visualize magnitude of yield among different crops."
   ]
  },
  {
   "cell_type": "code",
   "execution_count": 19,
   "metadata": {
    "colab": {
     "base_uri": "https://localhost:8080/",
     "height": 561
    },
    "id": "-1QnoTBOTwmU",
    "outputId": "e180cecb-ed2e-4f29-9e09-bf4a996841fe"
   },
   "outputs": [
    {
     "name": "stdout",
     "output_type": "stream",
     "text": [
      "                   Crop      yield\n",
      "6              Soybeans   53924312\n",
      "5               Sorghum   56634127\n",
      "2  Plantains and others   58958974\n",
      "9                  Yams   96676873\n",
      "8                 Wheat  116158445\n",
      "4           Rice, paddy  137994713\n",
      "1                 Maize  149633801\n",
      "0               Cassava  307730510\n",
      "7        Sweet potatoes  344077024\n",
      "3              Potatoes  854351426\n"
     ]
    },
    {
     "data": {
      "image/png": "[encoded data removed]",
      "text/plain": [
       "<Figure size 640x480 with 1 Axes>"
      ]
     },
     "metadata": {
      "needs_background": "light"
     },
     "output_type": "display_data"
    },
    {
     "data": {
      "text/plain": [
       "<ggplot: (108978317565)>"
      ]
     },
     "execution_count": 19,
     "metadata": {},
     "output_type": "execute_result"
    }
   ],
   "source": [
    "#Representation of crop as per yield \n",
    "df1=df.groupby(['Crop'])['yield'].aggregate('sum').reset_index(name='yield') #creation of dataframe based on cropwise yield\n",
    "df_1=df1.sort_values(by=['yield']) #Sorting of values as per order of yield\n",
    "print(df_1) #printing\n",
    "\n",
    "p=ggplot(df_1, aes(x='Crop',y='yield',fill='Crop'))+ geom_bar(stat=\"identity\")+theme_minimal()+coord_flip()+ scale_x_discrete(limits=df_1['Crop'].tolist()[::-1]) #plotting yield and crop using ggplot\n",
    "p=p+guides( )#removing redundant legends \n",
    "p+labs(title = \"Crop-wise yield barplot\",x = \"Crops\", y = \"Yield(hg/ha)\") #adding up title and labels to thr x and y axis"
   ]
  },
  {
   "cell_type": "code",
   "execution_count": 20,
   "metadata": {
    "id": "f38P5rlLTzAh"
   },
   "outputs": [],
   "source": [
    "#The next plot helped us to visualize increase in usage of pesticides over the years. This would help us check later if this feature has any impact on yield or not. "
   ]
  },
  {
   "cell_type": "code",
   "execution_count": 21,
   "metadata": {
    "colab": {
     "base_uri": "https://localhost:8080/",
     "height": 503
    },
    "id": "jCfKFo10T4Y-",
    "outputId": "815c88df-1ca3-4487-c021-64b0df01961a"
   },
   "outputs": [
    {
     "data": {
      "image/png": "[encoded data removed]",
      "text/plain": [
       "<Figure size 640x480 with 1 Axes>"
      ]
     },
     "metadata": {
      "needs_background": "light"
     },
     "output_type": "display_data"
    },
    {
     "data": {
      "text/plain": [
       "<ggplot: (108978393986)>"
      ]
     },
     "execution_count": 21,
     "metadata": {},
     "output_type": "execute_result"
    }
   ],
   "source": [
    "#visualization of how use of pesticides increased in years\n",
    "df_py=df.groupby(['Year'])['pesticide'].aggregate('sum').reset_index(name='pesticide') #creating dataframe yearwise total pesticide used\n",
    "#df_1=df1.sort_values(by=[''], ascending=False)\n",
    "#print(df_1)\n",
    "ggplot(df_py, aes('Year','pesticide'))+ geom_line(colour='purple')+theme_minimal()+labs(title = \"Usage of Pesticides over the year\",x = \"Years\", y = \"Pesticides(ton)\")\n",
    "#ploting pasticide vs year using ggplot, changing of colour,theme, title, labels for better visualization"
   ]
  },
  {
   "cell_type": "code",
   "execution_count": 22,
   "metadata": {
    "id": "Gglm_ohlUB2A"
   },
   "outputs": [],
   "source": [
    "#om the above plot it could be inferred that usage of pesticides has increased drastically over time. I wondered if there is any impact on crop yield due to this increased pesticide usage with time.\n",
    "#Therefore, I visualized changes in crop-wise yield over time using a line-plot."
   ]
  },
  {
   "cell_type": "code",
   "execution_count": 23,
   "metadata": {
    "colab": {
     "base_uri": "https://localhost:8080/",
     "height": 397
    },
    "id": "zWAmO3wMUIK8",
    "outputId": "36bbc64c-2d5e-43a7-daa3-4de704270994"
   },
   "outputs": [
    {
     "data": {
      "image/png": "[encoded data removed]",
      "text/plain": [
       "<Figure size 640x480 with 1 Axes>"
      ]
     },
     "metadata": {
      "needs_background": "light"
     },
     "output_type": "display_data"
    },
    {
     "data": {
      "text/plain": [
       "<ggplot: (108978428669)>"
      ]
     },
     "execution_count": 23,
     "metadata": {},
     "output_type": "execute_result"
    }
   ],
   "source": [
    "#how crop production changed in years\n",
    "df2 = df.groupby(['Crop','Year'])['yield'].aggregate('sum').reset_index(name='yield') #creating dataframe for crops,yield according to year\n",
    "ggplot(df2,aes(x='Year', y='yield', colour='Crop')) + geom_line()+theme_minimal()+ labs(title = \"Yearwise crop-yield\",x = \"Year\", y = \"Yield(hg/ha)\")\n",
    "#ploting of the data using ggplot where in x axis year and in y axis yield are considered and color has been chosen crop-wise"
   ]
  },
  {
   "cell_type": "code",
   "execution_count": 24,
   "metadata": {
    "id": "aaLTTb8UULWq"
   },
   "outputs": [],
   "source": [
    "#It can be seen from the above plot that yield of potato has increased drastically followed by sweet potato and yam at the second and the third spot.\n",
    "\n",
    "#To further explore statistical detail from the barplot for yield for each crop, I further looked at the boxplot to visualize the  yield for each crop."
   ]
  },
  {
   "cell_type": "code",
   "execution_count": 25,
   "metadata": {
    "colab": {
     "base_uri": "https://localhost:8080/",
     "height": 383
    },
    "id": "2-fwz8qZUOSg",
    "outputId": "addd573e-24bd-4234-fd9f-9ea6dda8e421"
   },
   "outputs": [
    {
     "data": {
      "text/plain": [
       "Text(0.5, 1.0, 'Crop-wise yield boxplot')"
      ]
     },
     "execution_count": 25,
     "metadata": {},
     "output_type": "execute_result"
    },
    {
     "data": {
      "image/png": "[encoded data removed]",
      "text/plain": [
       "<Figure size 640x480 with 1 Axes>"
      ]
     },
     "metadata": {},
     "output_type": "display_data"
    }
   ],
   "source": [
    "#Box plot, to check the significance of different crops\n",
    "fig, ax = plt.subplots() \n",
    "sns.boxplot(x=\"Crop\",y=\"yield\",palette=\"vlag\",data=df,ax=ax) #box plot of crops\n",
    "ax.set_xticklabels(ax.get_xticklabels(),rotation=45,horizontalalignment='right') #changing the labels of x axis\n",
    "ax.set_title('Crop-wise yield boxplot',fontsize = 14)#adding title and frontsize of it"
   ]
  },
  {
   "cell_type": "code",
   "execution_count": 26,
   "metadata": {
    "id": "qtfBuB2yUTu0"
   },
   "outputs": [],
   "source": [
    "#It can be observed from the boxplot that Potato is the most produced crop in terms of yield followed by Cassava, Sweet potatoes and Yams. Significance will be explored in more detail post model-fitting.\n",
    "\n",
    "#Lastly, I looked at the country-wise crop-yield. In addition, I also visualized crop- and country-wise yield patterns (top 10)."
   ]
  },
  {
   "cell_type": "code",
   "execution_count": 27,
   "metadata": {
    "colab": {
     "base_uri": "https://localhost:8080/"
    },
    "id": "T_yWnDXzUUoH",
    "outputId": "8e4d3ef9-3d36-4d52-8ca4-78bc1dcf66d1"
   },
   "outputs": [
    {
     "name": "stdout",
     "output_type": "stream",
     "text": [
      "          Country      Yield\n",
      "0           India  327420324\n",
      "1          Brazil  167550306\n",
      "2          Mexico  130788528\n",
      "3           Japan  124470912\n",
      "4       Australia  109111062\n",
      "5        Pakistan   73897434\n",
      "6       Indonesia   69193506\n",
      "7  United Kingdom   55419990\n",
      "8          Turkey   52263950\n",
      "9           Spain   46773540\n"
     ]
    }
   ],
   "source": [
    "df_c=df.groupby(['Country'])['yield'].sum().nlargest(10).reset_index(name='Yield')#Country wise total yield\n",
    "print(df_c)\n"
   ]
  },
  {
   "cell_type": "code",
   "execution_count": 28,
   "metadata": {
    "colab": {
     "base_uri": "https://localhost:8080/",
     "height": 485
    },
    "id": "Gir0W3jjUWpG",
    "outputId": "253c7ea1-1a16-4273-e2b5-25a87022c364"
   },
   "outputs": [
    {
     "data": {
      "image/png": "[encoded data removed]",
      "text/plain": [
       "<Figure size 640x480 with 1 Axes>"
      ]
     },
     "metadata": {
      "needs_background": "light"
     },
     "output_type": "display_data"
    },
    {
     "data": {
      "text/plain": [
       "<ggplot: (108978395453)>"
      ]
     },
     "execution_count": 28,
     "metadata": {},
     "output_type": "execute_result"
    }
   ],
   "source": [
    "p=ggplot(df_c,aes(x='Country',y='Yield'))+ geom_bar(stat = \"identity\")+theme_minimal()+coord_flip()+ scale_x_discrete(limits=df_c['Country'].tolist()[::-1]) #plotting yield and country using ggplot\n",
    "p+labs(title = \"Country-wise yield barplot\",x = \"Country\", y = \"Yield(hg/ha)\") #adding up title and labels to the x and y axis"
   ]
  },
  {
   "cell_type": "code",
   "execution_count": 29,
   "metadata": {
    "colab": {
     "base_uri": "https://localhost:8080/"
    },
    "id": "Q5oWlGwAUZ3_",
    "outputId": "a28cf882-f8e4-4695-f30b-61f5db7dbb69"
   },
   "outputs": [
    {
     "name": "stdout",
     "output_type": "stream",
     "text": [
      "             Crop         Country      Yield\n",
      "0         Cassava           India  142810624\n",
      "1        Potatoes           India   92122514\n",
      "2        Potatoes          Brazil   49602168\n",
      "3        Potatoes  United Kingdom   46705145\n",
      "4        Potatoes       Australia   45670386\n",
      "5  Sweet potatoes           India   44439538\n",
      "6        Potatoes           Japan   42918726\n",
      "7        Potatoes          Mexico   42053880\n",
      "8  Sweet potatoes          Mexico   35808592\n",
      "9  Sweet potatoes       Australia   35550294\n"
     ]
    }
   ],
   "source": [
    "print(df.groupby(['Crop','Country'])['yield'].sum().nlargest(10).reset_index(name='Yield')) # 10 highest yield crop and country wise "
   ]
  },
  {
   "cell_type": "code",
   "execution_count": 30,
   "metadata": {
    "id": "jdzPLrRq6HuK"
   },
   "outputs": [],
   "source": [
    "#Encoding Categorical Variables:\n",
    "#There are two categorical columns in the dataframe, categorical data are variables that contain label values rather than numeric values. The number of possible values is often limited to a fixed set, like in this case, items and countries values"
   ]
  },
  {
   "cell_type": "code",
   "execution_count": 31,
   "metadata": {
    "colab": {
     "base_uri": "https://localhost:8080/",
     "height": 317
    },
    "id": "N831xtGC3812",
    "outputId": "9662dd9a-ab17-454c-ecfa-208b2f188d02"
   },
   "outputs": [
    {
     "data": {
      "text/html": [
       "<div>\n",
       "<style scoped>\n",
       "    .dataframe tbody tr th:only-of-type {\n",
       "        vertical-align: middle;\n",
       "    }\n",
       "\n",
       "    .dataframe tbody tr th {\n",
       "        vertical-align: top;\n",
       "    }\n",
       "\n",
       "    .dataframe thead th {\n",
       "        text-align: right;\n",
       "    }\n",
       "</style>\n",
       "<table border=\"1\" class=\"dataframe\">\n",
       "  <thead>\n",
       "    <tr style=\"text-align: right;\">\n",
       "      <th></th>\n",
       "      <th>Year</th>\n",
       "      <th>avg_rain</th>\n",
       "      <th>pesticide</th>\n",
       "      <th>avg_temp</th>\n",
       "      <th>Country_Albania</th>\n",
       "      <th>Country_Algeria</th>\n",
       "      <th>Country_Angola</th>\n",
       "      <th>Country_Argentina</th>\n",
       "      <th>Country_Armenia</th>\n",
       "      <th>Country_Australia</th>\n",
       "      <th>...</th>\n",
       "      <th>Crop_Cassava</th>\n",
       "      <th>Crop_Maize</th>\n",
       "      <th>Crop_Plantains and others</th>\n",
       "      <th>Crop_Potatoes</th>\n",
       "      <th>Crop_Rice, paddy</th>\n",
       "      <th>Crop_Sorghum</th>\n",
       "      <th>Crop_Soybeans</th>\n",
       "      <th>Crop_Sweet potatoes</th>\n",
       "      <th>Crop_Wheat</th>\n",
       "      <th>Crop_Yams</th>\n",
       "    </tr>\n",
       "  </thead>\n",
       "  <tbody>\n",
       "    <tr>\n",
       "      <th>0</th>\n",
       "      <td>1990</td>\n",
       "      <td>1485.0</td>\n",
       "      <td>121.0</td>\n",
       "      <td>16.37</td>\n",
       "      <td>1</td>\n",
       "      <td>0</td>\n",
       "      <td>0</td>\n",
       "      <td>0</td>\n",
       "      <td>0</td>\n",
       "      <td>0</td>\n",
       "      <td>...</td>\n",
       "      <td>0</td>\n",
       "      <td>1</td>\n",
       "      <td>0</td>\n",
       "      <td>0</td>\n",
       "      <td>0</td>\n",
       "      <td>0</td>\n",
       "      <td>0</td>\n",
       "      <td>0</td>\n",
       "      <td>0</td>\n",
       "      <td>0</td>\n",
       "    </tr>\n",
       "    <tr>\n",
       "      <th>1</th>\n",
       "      <td>1990</td>\n",
       "      <td>1485.0</td>\n",
       "      <td>121.0</td>\n",
       "      <td>16.37</td>\n",
       "      <td>1</td>\n",
       "      <td>0</td>\n",
       "      <td>0</td>\n",
       "      <td>0</td>\n",
       "      <td>0</td>\n",
       "      <td>0</td>\n",
       "      <td>...</td>\n",
       "      <td>0</td>\n",
       "      <td>0</td>\n",
       "      <td>0</td>\n",
       "      <td>1</td>\n",
       "      <td>0</td>\n",
       "      <td>0</td>\n",
       "      <td>0</td>\n",
       "      <td>0</td>\n",
       "      <td>0</td>\n",
       "      <td>0</td>\n",
       "    </tr>\n",
       "    <tr>\n",
       "      <th>2</th>\n",
       "      <td>1990</td>\n",
       "      <td>1485.0</td>\n",
       "      <td>121.0</td>\n",
       "      <td>16.37</td>\n",
       "      <td>1</td>\n",
       "      <td>0</td>\n",
       "      <td>0</td>\n",
       "      <td>0</td>\n",
       "      <td>0</td>\n",
       "      <td>0</td>\n",
       "      <td>...</td>\n",
       "      <td>0</td>\n",
       "      <td>0</td>\n",
       "      <td>0</td>\n",
       "      <td>0</td>\n",
       "      <td>1</td>\n",
       "      <td>0</td>\n",
       "      <td>0</td>\n",
       "      <td>0</td>\n",
       "      <td>0</td>\n",
       "      <td>0</td>\n",
       "    </tr>\n",
       "    <tr>\n",
       "      <th>3</th>\n",
       "      <td>1990</td>\n",
       "      <td>1485.0</td>\n",
       "      <td>121.0</td>\n",
       "      <td>16.37</td>\n",
       "      <td>1</td>\n",
       "      <td>0</td>\n",
       "      <td>0</td>\n",
       "      <td>0</td>\n",
       "      <td>0</td>\n",
       "      <td>0</td>\n",
       "      <td>...</td>\n",
       "      <td>0</td>\n",
       "      <td>0</td>\n",
       "      <td>0</td>\n",
       "      <td>0</td>\n",
       "      <td>0</td>\n",
       "      <td>1</td>\n",
       "      <td>0</td>\n",
       "      <td>0</td>\n",
       "      <td>0</td>\n",
       "      <td>0</td>\n",
       "    </tr>\n",
       "    <tr>\n",
       "      <th>4</th>\n",
       "      <td>1990</td>\n",
       "      <td>1485.0</td>\n",
       "      <td>121.0</td>\n",
       "      <td>16.37</td>\n",
       "      <td>1</td>\n",
       "      <td>0</td>\n",
       "      <td>0</td>\n",
       "      <td>0</td>\n",
       "      <td>0</td>\n",
       "      <td>0</td>\n",
       "      <td>...</td>\n",
       "      <td>0</td>\n",
       "      <td>0</td>\n",
       "      <td>0</td>\n",
       "      <td>0</td>\n",
       "      <td>0</td>\n",
       "      <td>0</td>\n",
       "      <td>1</td>\n",
       "      <td>0</td>\n",
       "      <td>0</td>\n",
       "      <td>0</td>\n",
       "    </tr>\n",
       "  </tbody>\n",
       "</table>\n",
       "<p>5 rows × 115 columns</p>\n",
       "</div>"
      ],
      "text/plain": [
       "   Year  avg_rain  pesticide  avg_temp  Country_Albania  Country_Algeria  \\\n",
       "0  1990    1485.0      121.0     16.37                1                0   \n",
       "1  1990    1485.0      121.0     16.37                1                0   \n",
       "2  1990    1485.0      121.0     16.37                1                0   \n",
       "3  1990    1485.0      121.0     16.37                1                0   \n",
       "4  1990    1485.0      121.0     16.37                1                0   \n",
       "\n",
       "   Country_Angola  Country_Argentina  Country_Armenia  Country_Australia  ...  \\\n",
       "0               0                  0                0                  0  ...   \n",
       "1               0                  0                0                  0  ...   \n",
       "2               0                  0                0                  0  ...   \n",
       "3               0                  0                0                  0  ...   \n",
       "4               0                  0                0                  0  ...   \n",
       "\n",
       "   Crop_Cassava  Crop_Maize  Crop_Plantains and others  Crop_Potatoes  \\\n",
       "0             0           1                          0              0   \n",
       "1             0           0                          0              1   \n",
       "2             0           0                          0              0   \n",
       "3             0           0                          0              0   \n",
       "4             0           0                          0              0   \n",
       "\n",
       "   Crop_Rice, paddy  Crop_Sorghum  Crop_Soybeans  Crop_Sweet potatoes  \\\n",
       "0                 0             0              0                    0   \n",
       "1                 0             0              0                    0   \n",
       "2                 1             0              0                    0   \n",
       "3                 0             1              0                    0   \n",
       "4                 0             0              1                    0   \n",
       "\n",
       "   Crop_Wheat  Crop_Yams  \n",
       "0           0          0  \n",
       "1           0          0  \n",
       "2           0          0  \n",
       "3           0          0  \n",
       "4           0          0  \n",
       "\n",
       "[5 rows x 115 columns]"
      ]
     },
     "execution_count": 31,
     "metadata": {},
     "output_type": "execute_result"
    }
   ],
   "source": [
    "yield_df_onehot = pd.get_dummies(df, columns=['Country',\"Crop\"], prefix = ['Country',\"Crop\"])\n",
    "features=yield_df_onehot.loc[:, yield_df_onehot.columns != 'yield']\n",
    "label=df['yield']\n",
    "features.head()"
   ]
  },
  {
   "cell_type": "code",
   "execution_count": 32,
   "metadata": {
    "id": "oj3IsHS87bNO"
   },
   "outputs": [],
   "source": [
    "# Training data"
   ]
  },
  {
   "cell_type": "code",
   "execution_count": 33,
   "metadata": {
    "id": "3KmgYnwC6n1O"
   },
   "outputs": [],
   "source": [
    "from sklearn.model_selection import train_test_split\n",
    "train_data, test_data, train_labels, test_labels = train_test_split(features, label, test_size=0.3, random_state=42)"
   ]
  },
  {
   "cell_type": "code",
   "execution_count": 34,
   "metadata": {
    "id": "RNEzhM5I6_5K"
   },
   "outputs": [],
   "source": [
    "df.to_csv('yield_df.csv')"
   ]
  },
  {
   "cell_type": "code",
   "execution_count": 35,
   "metadata": {
    "id": "Jfh9s6lI7ECa"
   },
   "outputs": [],
   "source": [
    "from sklearn.model_selection import train_test_split\n",
    "train_data, test_data, train_labels, test_labels = train_test_split(features, label, test_size=0.3, random_state=42)"
   ]
  },
  {
   "cell_type": "code",
   "execution_count": 36,
   "metadata": {
    "id": "4RcUs6XN_wD6"
   },
   "outputs": [],
   "source": [
    "#Backward Elimination"
   ]
  },
  {
   "cell_type": "code",
   "execution_count": 37,
   "metadata": {
    "id": "fC6Of6T47zFQ"
   },
   "outputs": [
    {
     "ename": "ValueError",
     "evalue": "Pandas data cast to numpy dtype of object. Check input data with np.asarray(data).",
     "output_type": "error",
     "traceback": [
      "\u001b[1;31m---------------------------------------------------------------------------\u001b[0m",
      "\u001b[1;31mValueError\u001b[0m                                Traceback (most recent call last)",
      "\u001b[1;32m~\\AppData\\Local\\Temp\\ipykernel_3228\\2590269554.py\u001b[0m in \u001b[0;36m<module>\u001b[1;34m\u001b[0m\n\u001b[0;32m      8\u001b[0m     \u001b[0mX_1\u001b[0m \u001b[1;33m=\u001b[0m \u001b[0mX\u001b[0m\u001b[1;33m[\u001b[0m\u001b[0mcols\u001b[0m\u001b[1;33m]\u001b[0m\u001b[1;33m\u001b[0m\u001b[1;33m\u001b[0m\u001b[0m\n\u001b[0;32m      9\u001b[0m     \u001b[0mX_1\u001b[0m \u001b[1;33m=\u001b[0m \u001b[0msm\u001b[0m\u001b[1;33m.\u001b[0m\u001b[0madd_constant\u001b[0m\u001b[1;33m(\u001b[0m\u001b[0mX_1\u001b[0m\u001b[1;33m)\u001b[0m\u001b[1;33m\u001b[0m\u001b[1;33m\u001b[0m\u001b[0m\n\u001b[1;32m---> 10\u001b[1;33m     \u001b[0mmodel\u001b[0m \u001b[1;33m=\u001b[0m \u001b[0msm\u001b[0m\u001b[1;33m.\u001b[0m\u001b[0mOLS\u001b[0m\u001b[1;33m(\u001b[0m\u001b[0my\u001b[0m\u001b[1;33m,\u001b[0m\u001b[0mX_1\u001b[0m\u001b[1;33m)\u001b[0m\u001b[1;33m.\u001b[0m\u001b[0mfit\u001b[0m\u001b[1;33m(\u001b[0m\u001b[1;33m)\u001b[0m\u001b[1;33m\u001b[0m\u001b[1;33m\u001b[0m\u001b[0m\n\u001b[0m\u001b[0;32m     11\u001b[0m     \u001b[0mp\u001b[0m \u001b[1;33m=\u001b[0m \u001b[0mpd\u001b[0m\u001b[1;33m.\u001b[0m\u001b[0mSeries\u001b[0m\u001b[1;33m(\u001b[0m\u001b[0mmodel\u001b[0m\u001b[1;33m.\u001b[0m\u001b[0mpvalues\u001b[0m\u001b[1;33m.\u001b[0m\u001b[0mvalues\u001b[0m\u001b[1;33m[\u001b[0m\u001b[1;36m1\u001b[0m\u001b[1;33m:\u001b[0m\u001b[1;33m]\u001b[0m\u001b[1;33m,\u001b[0m \u001b[0mindex\u001b[0m \u001b[1;33m=\u001b[0m \u001b[0mcols\u001b[0m\u001b[1;33m)\u001b[0m\u001b[1;33m\u001b[0m\u001b[1;33m\u001b[0m\u001b[0m\n\u001b[0;32m     12\u001b[0m     \u001b[0mpmax\u001b[0m \u001b[1;33m=\u001b[0m \u001b[0mmax\u001b[0m\u001b[1;33m(\u001b[0m\u001b[0mp\u001b[0m\u001b[1;33m)\u001b[0m\u001b[1;33m\u001b[0m\u001b[1;33m\u001b[0m\u001b[0m\n",
      "\u001b[1;32m~\\anaconda3\\lib\\site-packages\\statsmodels\\regression\\linear_model.py\u001b[0m in \u001b[0;36m__init__\u001b[1;34m(self, endog, exog, missing, hasconst, **kwargs)\u001b[0m\n\u001b[0;32m    888\u001b[0m                    \"An exception will be raised in the next version.\")\n\u001b[0;32m    889\u001b[0m             \u001b[0mwarnings\u001b[0m\u001b[1;33m.\u001b[0m\u001b[0mwarn\u001b[0m\u001b[1;33m(\u001b[0m\u001b[0mmsg\u001b[0m\u001b[1;33m,\u001b[0m \u001b[0mValueWarning\u001b[0m\u001b[1;33m)\u001b[0m\u001b[1;33m\u001b[0m\u001b[1;33m\u001b[0m\u001b[0m\n\u001b[1;32m--> 890\u001b[1;33m         super(OLS, self).__init__(endog, exog, missing=missing,\n\u001b[0m\u001b[0;32m    891\u001b[0m                                   hasconst=hasconst, **kwargs)\n\u001b[0;32m    892\u001b[0m         \u001b[1;32mif\u001b[0m \u001b[1;34m\"weights\"\u001b[0m \u001b[1;32min\u001b[0m \u001b[0mself\u001b[0m\u001b[1;33m.\u001b[0m\u001b[0m_init_keys\u001b[0m\u001b[1;33m:\u001b[0m\u001b[1;33m\u001b[0m\u001b[1;33m\u001b[0m\u001b[0m\n",
      "\u001b[1;32m~\\anaconda3\\lib\\site-packages\\statsmodels\\regression\\linear_model.py\u001b[0m in \u001b[0;36m__init__\u001b[1;34m(self, endog, exog, weights, missing, hasconst, **kwargs)\u001b[0m\n\u001b[0;32m    715\u001b[0m         \u001b[1;32melse\u001b[0m\u001b[1;33m:\u001b[0m\u001b[1;33m\u001b[0m\u001b[1;33m\u001b[0m\u001b[0m\n\u001b[0;32m    716\u001b[0m             \u001b[0mweights\u001b[0m \u001b[1;33m=\u001b[0m \u001b[0mweights\u001b[0m\u001b[1;33m.\u001b[0m\u001b[0msqueeze\u001b[0m\u001b[1;33m(\u001b[0m\u001b[1;33m)\u001b[0m\u001b[1;33m\u001b[0m\u001b[1;33m\u001b[0m\u001b[0m\n\u001b[1;32m--> 717\u001b[1;33m         super(WLS, self).__init__(endog, exog, missing=missing,\n\u001b[0m\u001b[0;32m    718\u001b[0m                                   weights=weights, hasconst=hasconst, **kwargs)\n\u001b[0;32m    719\u001b[0m         \u001b[0mnobs\u001b[0m \u001b[1;33m=\u001b[0m \u001b[0mself\u001b[0m\u001b[1;33m.\u001b[0m\u001b[0mexog\u001b[0m\u001b[1;33m.\u001b[0m\u001b[0mshape\u001b[0m\u001b[1;33m[\u001b[0m\u001b[1;36m0\u001b[0m\u001b[1;33m]\u001b[0m\u001b[1;33m\u001b[0m\u001b[1;33m\u001b[0m\u001b[0m\n",
      "\u001b[1;32m~\\anaconda3\\lib\\site-packages\\statsmodels\\regression\\linear_model.py\u001b[0m in \u001b[0;36m__init__\u001b[1;34m(self, endog, exog, **kwargs)\u001b[0m\n\u001b[0;32m    189\u001b[0m     \"\"\"\n\u001b[0;32m    190\u001b[0m     \u001b[1;32mdef\u001b[0m \u001b[0m__init__\u001b[0m\u001b[1;33m(\u001b[0m\u001b[0mself\u001b[0m\u001b[1;33m,\u001b[0m \u001b[0mendog\u001b[0m\u001b[1;33m,\u001b[0m \u001b[0mexog\u001b[0m\u001b[1;33m,\u001b[0m \u001b[1;33m**\u001b[0m\u001b[0mkwargs\u001b[0m\u001b[1;33m)\u001b[0m\u001b[1;33m:\u001b[0m\u001b[1;33m\u001b[0m\u001b[1;33m\u001b[0m\u001b[0m\n\u001b[1;32m--> 191\u001b[1;33m         \u001b[0msuper\u001b[0m\u001b[1;33m(\u001b[0m\u001b[0mRegressionModel\u001b[0m\u001b[1;33m,\u001b[0m \u001b[0mself\u001b[0m\u001b[1;33m)\u001b[0m\u001b[1;33m.\u001b[0m\u001b[0m__init__\u001b[0m\u001b[1;33m(\u001b[0m\u001b[0mendog\u001b[0m\u001b[1;33m,\u001b[0m \u001b[0mexog\u001b[0m\u001b[1;33m,\u001b[0m \u001b[1;33m**\u001b[0m\u001b[0mkwargs\u001b[0m\u001b[1;33m)\u001b[0m\u001b[1;33m\u001b[0m\u001b[1;33m\u001b[0m\u001b[0m\n\u001b[0m\u001b[0;32m    192\u001b[0m         \u001b[0mself\u001b[0m\u001b[1;33m.\u001b[0m\u001b[0m_data_attr\u001b[0m\u001b[1;33m.\u001b[0m\u001b[0mextend\u001b[0m\u001b[1;33m(\u001b[0m\u001b[1;33m[\u001b[0m\u001b[1;34m'pinv_wexog'\u001b[0m\u001b[1;33m,\u001b[0m \u001b[1;34m'wendog'\u001b[0m\u001b[1;33m,\u001b[0m \u001b[1;34m'wexog'\u001b[0m\u001b[1;33m,\u001b[0m \u001b[1;34m'weights'\u001b[0m\u001b[1;33m]\u001b[0m\u001b[1;33m)\u001b[0m\u001b[1;33m\u001b[0m\u001b[1;33m\u001b[0m\u001b[0m\n\u001b[0;32m    193\u001b[0m \u001b[1;33m\u001b[0m\u001b[0m\n",
      "\u001b[1;32m~\\anaconda3\\lib\\site-packages\\statsmodels\\base\\model.py\u001b[0m in \u001b[0;36m__init__\u001b[1;34m(self, endog, exog, **kwargs)\u001b[0m\n\u001b[0;32m    265\u001b[0m \u001b[1;33m\u001b[0m\u001b[0m\n\u001b[0;32m    266\u001b[0m     \u001b[1;32mdef\u001b[0m \u001b[0m__init__\u001b[0m\u001b[1;33m(\u001b[0m\u001b[0mself\u001b[0m\u001b[1;33m,\u001b[0m \u001b[0mendog\u001b[0m\u001b[1;33m,\u001b[0m \u001b[0mexog\u001b[0m\u001b[1;33m=\u001b[0m\u001b[1;32mNone\u001b[0m\u001b[1;33m,\u001b[0m \u001b[1;33m**\u001b[0m\u001b[0mkwargs\u001b[0m\u001b[1;33m)\u001b[0m\u001b[1;33m:\u001b[0m\u001b[1;33m\u001b[0m\u001b[1;33m\u001b[0m\u001b[0m\n\u001b[1;32m--> 267\u001b[1;33m         \u001b[0msuper\u001b[0m\u001b[1;33m(\u001b[0m\u001b[1;33m)\u001b[0m\u001b[1;33m.\u001b[0m\u001b[0m__init__\u001b[0m\u001b[1;33m(\u001b[0m\u001b[0mendog\u001b[0m\u001b[1;33m,\u001b[0m \u001b[0mexog\u001b[0m\u001b[1;33m,\u001b[0m \u001b[1;33m**\u001b[0m\u001b[0mkwargs\u001b[0m\u001b[1;33m)\u001b[0m\u001b[1;33m\u001b[0m\u001b[1;33m\u001b[0m\u001b[0m\n\u001b[0m\u001b[0;32m    268\u001b[0m         \u001b[0mself\u001b[0m\u001b[1;33m.\u001b[0m\u001b[0minitialize\u001b[0m\u001b[1;33m(\u001b[0m\u001b[1;33m)\u001b[0m\u001b[1;33m\u001b[0m\u001b[1;33m\u001b[0m\u001b[0m\n\u001b[0;32m    269\u001b[0m \u001b[1;33m\u001b[0m\u001b[0m\n",
      "\u001b[1;32m~\\anaconda3\\lib\\site-packages\\statsmodels\\base\\model.py\u001b[0m in \u001b[0;36m__init__\u001b[1;34m(self, endog, exog, **kwargs)\u001b[0m\n\u001b[0;32m     90\u001b[0m         \u001b[0mmissing\u001b[0m \u001b[1;33m=\u001b[0m \u001b[0mkwargs\u001b[0m\u001b[1;33m.\u001b[0m\u001b[0mpop\u001b[0m\u001b[1;33m(\u001b[0m\u001b[1;34m'missing'\u001b[0m\u001b[1;33m,\u001b[0m \u001b[1;34m'none'\u001b[0m\u001b[1;33m)\u001b[0m\u001b[1;33m\u001b[0m\u001b[1;33m\u001b[0m\u001b[0m\n\u001b[0;32m     91\u001b[0m         \u001b[0mhasconst\u001b[0m \u001b[1;33m=\u001b[0m \u001b[0mkwargs\u001b[0m\u001b[1;33m.\u001b[0m\u001b[0mpop\u001b[0m\u001b[1;33m(\u001b[0m\u001b[1;34m'hasconst'\u001b[0m\u001b[1;33m,\u001b[0m \u001b[1;32mNone\u001b[0m\u001b[1;33m)\u001b[0m\u001b[1;33m\u001b[0m\u001b[1;33m\u001b[0m\u001b[0m\n\u001b[1;32m---> 92\u001b[1;33m         self.data = self._handle_data(endog, exog, missing, hasconst,\n\u001b[0m\u001b[0;32m     93\u001b[0m                                       **kwargs)\n\u001b[0;32m     94\u001b[0m         \u001b[0mself\u001b[0m\u001b[1;33m.\u001b[0m\u001b[0mk_constant\u001b[0m \u001b[1;33m=\u001b[0m \u001b[0mself\u001b[0m\u001b[1;33m.\u001b[0m\u001b[0mdata\u001b[0m\u001b[1;33m.\u001b[0m\u001b[0mk_constant\u001b[0m\u001b[1;33m\u001b[0m\u001b[1;33m\u001b[0m\u001b[0m\n",
      "\u001b[1;32m~\\anaconda3\\lib\\site-packages\\statsmodels\\base\\model.py\u001b[0m in \u001b[0;36m_handle_data\u001b[1;34m(self, endog, exog, missing, hasconst, **kwargs)\u001b[0m\n\u001b[0;32m    130\u001b[0m \u001b[1;33m\u001b[0m\u001b[0m\n\u001b[0;32m    131\u001b[0m     \u001b[1;32mdef\u001b[0m \u001b[0m_handle_data\u001b[0m\u001b[1;33m(\u001b[0m\u001b[0mself\u001b[0m\u001b[1;33m,\u001b[0m \u001b[0mendog\u001b[0m\u001b[1;33m,\u001b[0m \u001b[0mexog\u001b[0m\u001b[1;33m,\u001b[0m \u001b[0mmissing\u001b[0m\u001b[1;33m,\u001b[0m \u001b[0mhasconst\u001b[0m\u001b[1;33m,\u001b[0m \u001b[1;33m**\u001b[0m\u001b[0mkwargs\u001b[0m\u001b[1;33m)\u001b[0m\u001b[1;33m:\u001b[0m\u001b[1;33m\u001b[0m\u001b[1;33m\u001b[0m\u001b[0m\n\u001b[1;32m--> 132\u001b[1;33m         \u001b[0mdata\u001b[0m \u001b[1;33m=\u001b[0m \u001b[0mhandle_data\u001b[0m\u001b[1;33m(\u001b[0m\u001b[0mendog\u001b[0m\u001b[1;33m,\u001b[0m \u001b[0mexog\u001b[0m\u001b[1;33m,\u001b[0m \u001b[0mmissing\u001b[0m\u001b[1;33m,\u001b[0m \u001b[0mhasconst\u001b[0m\u001b[1;33m,\u001b[0m \u001b[1;33m**\u001b[0m\u001b[0mkwargs\u001b[0m\u001b[1;33m)\u001b[0m\u001b[1;33m\u001b[0m\u001b[1;33m\u001b[0m\u001b[0m\n\u001b[0m\u001b[0;32m    133\u001b[0m         \u001b[1;31m# kwargs arrays could have changed, easier to just attach here\u001b[0m\u001b[1;33m\u001b[0m\u001b[1;33m\u001b[0m\u001b[0m\n\u001b[0;32m    134\u001b[0m         \u001b[1;32mfor\u001b[0m \u001b[0mkey\u001b[0m \u001b[1;32min\u001b[0m \u001b[0mkwargs\u001b[0m\u001b[1;33m:\u001b[0m\u001b[1;33m\u001b[0m\u001b[1;33m\u001b[0m\u001b[0m\n",
      "\u001b[1;32m~\\anaconda3\\lib\\site-packages\\statsmodels\\base\\data.py\u001b[0m in \u001b[0;36mhandle_data\u001b[1;34m(endog, exog, missing, hasconst, **kwargs)\u001b[0m\n\u001b[0;32m    671\u001b[0m \u001b[1;33m\u001b[0m\u001b[0m\n\u001b[0;32m    672\u001b[0m     \u001b[0mklass\u001b[0m \u001b[1;33m=\u001b[0m \u001b[0mhandle_data_class_factory\u001b[0m\u001b[1;33m(\u001b[0m\u001b[0mendog\u001b[0m\u001b[1;33m,\u001b[0m \u001b[0mexog\u001b[0m\u001b[1;33m)\u001b[0m\u001b[1;33m\u001b[0m\u001b[1;33m\u001b[0m\u001b[0m\n\u001b[1;32m--> 673\u001b[1;33m     return klass(endog, exog=exog, missing=missing, hasconst=hasconst,\n\u001b[0m\u001b[0;32m    674\u001b[0m                  **kwargs)\n",
      "\u001b[1;32m~\\anaconda3\\lib\\site-packages\\statsmodels\\base\\data.py\u001b[0m in \u001b[0;36m__init__\u001b[1;34m(self, endog, exog, missing, hasconst, **kwargs)\u001b[0m\n\u001b[0;32m     80\u001b[0m             \u001b[0mself\u001b[0m\u001b[1;33m.\u001b[0m\u001b[0morig_endog\u001b[0m \u001b[1;33m=\u001b[0m \u001b[0mendog\u001b[0m\u001b[1;33m\u001b[0m\u001b[1;33m\u001b[0m\u001b[0m\n\u001b[0;32m     81\u001b[0m             \u001b[0mself\u001b[0m\u001b[1;33m.\u001b[0m\u001b[0morig_exog\u001b[0m \u001b[1;33m=\u001b[0m \u001b[0mexog\u001b[0m\u001b[1;33m\u001b[0m\u001b[1;33m\u001b[0m\u001b[0m\n\u001b[1;32m---> 82\u001b[1;33m             \u001b[0mself\u001b[0m\u001b[1;33m.\u001b[0m\u001b[0mendog\u001b[0m\u001b[1;33m,\u001b[0m \u001b[0mself\u001b[0m\u001b[1;33m.\u001b[0m\u001b[0mexog\u001b[0m \u001b[1;33m=\u001b[0m \u001b[0mself\u001b[0m\u001b[1;33m.\u001b[0m\u001b[0m_convert_endog_exog\u001b[0m\u001b[1;33m(\u001b[0m\u001b[0mendog\u001b[0m\u001b[1;33m,\u001b[0m \u001b[0mexog\u001b[0m\u001b[1;33m)\u001b[0m\u001b[1;33m\u001b[0m\u001b[1;33m\u001b[0m\u001b[0m\n\u001b[0m\u001b[0;32m     83\u001b[0m \u001b[1;33m\u001b[0m\u001b[0m\n\u001b[0;32m     84\u001b[0m         \u001b[0mself\u001b[0m\u001b[1;33m.\u001b[0m\u001b[0mconst_idx\u001b[0m \u001b[1;33m=\u001b[0m \u001b[1;32mNone\u001b[0m\u001b[1;33m\u001b[0m\u001b[1;33m\u001b[0m\u001b[0m\n",
      "\u001b[1;32m~\\anaconda3\\lib\\site-packages\\statsmodels\\base\\data.py\u001b[0m in \u001b[0;36m_convert_endog_exog\u001b[1;34m(self, endog, exog)\u001b[0m\n\u001b[0;32m    505\u001b[0m         \u001b[0mexog\u001b[0m \u001b[1;33m=\u001b[0m \u001b[0mexog\u001b[0m \u001b[1;32mif\u001b[0m \u001b[0mexog\u001b[0m \u001b[1;32mis\u001b[0m \u001b[1;32mNone\u001b[0m \u001b[1;32melse\u001b[0m \u001b[0mnp\u001b[0m\u001b[1;33m.\u001b[0m\u001b[0masarray\u001b[0m\u001b[1;33m(\u001b[0m\u001b[0mexog\u001b[0m\u001b[1;33m)\u001b[0m\u001b[1;33m\u001b[0m\u001b[1;33m\u001b[0m\u001b[0m\n\u001b[0;32m    506\u001b[0m         \u001b[1;32mif\u001b[0m \u001b[0mendog\u001b[0m\u001b[1;33m.\u001b[0m\u001b[0mdtype\u001b[0m \u001b[1;33m==\u001b[0m \u001b[0mobject\u001b[0m \u001b[1;32mor\u001b[0m \u001b[0mexog\u001b[0m \u001b[1;32mis\u001b[0m \u001b[1;32mnot\u001b[0m \u001b[1;32mNone\u001b[0m \u001b[1;32mand\u001b[0m \u001b[0mexog\u001b[0m\u001b[1;33m.\u001b[0m\u001b[0mdtype\u001b[0m \u001b[1;33m==\u001b[0m \u001b[0mobject\u001b[0m\u001b[1;33m:\u001b[0m\u001b[1;33m\u001b[0m\u001b[1;33m\u001b[0m\u001b[0m\n\u001b[1;32m--> 507\u001b[1;33m             raise ValueError(\"Pandas data cast to numpy dtype of object. \"\n\u001b[0m\u001b[0;32m    508\u001b[0m                              \"Check input data with np.asarray(data).\")\n\u001b[0;32m    509\u001b[0m         \u001b[1;32mreturn\u001b[0m \u001b[0msuper\u001b[0m\u001b[1;33m(\u001b[0m\u001b[0mPandasData\u001b[0m\u001b[1;33m,\u001b[0m \u001b[0mself\u001b[0m\u001b[1;33m)\u001b[0m\u001b[1;33m.\u001b[0m\u001b[0m_convert_endog_exog\u001b[0m\u001b[1;33m(\u001b[0m\u001b[0mendog\u001b[0m\u001b[1;33m,\u001b[0m \u001b[0mexog\u001b[0m\u001b[1;33m)\u001b[0m\u001b[1;33m\u001b[0m\u001b[1;33m\u001b[0m\u001b[0m\n",
      "\u001b[1;31mValueError\u001b[0m: Pandas data cast to numpy dtype of object. Check input data with np.asarray(data)."
     ]
    }
   ],
   "source": [
    "y = df['yield']\n",
    "X = df.drop('yield', axis=1)\n",
    "\n",
    "cols = list(X.columns)\n",
    "pmax = 1\n",
    "while (len(cols)>0):\n",
    "    p = []\n",
    "    X_1 = X[cols]\n",
    "    X_1 = sm.add_constant(X_1)\n",
    "    model = sm.OLS(y,X_1).fit()\n",
    "    p = pd.Series(model.pvalues.values[1:], index = cols)      \n",
    "    pmax = max(p)\n",
    "    feature_with_p_max = p.idxmax()\n",
    "    if(pmax>0.05):\n",
    "        cols.remove(feature_with_p_max)\n",
    "    else:\n",
    "        break\n",
    "\n",
    "df = df[cols]\n",
    "df.insert(len(df.columns), 'yield', y)"
   ]
  },
  {
   "cell_type": "code",
   "execution_count": null,
   "metadata": {},
   "outputs": [],
   "source": [
    "#smit "
   ]
  },
  {
   "cell_type": "code",
   "execution_count": 47,
   "metadata": {},
   "outputs": [
    {
     "data": {
      "text/html": [
       "<div>\n",
       "<style scoped>\n",
       "    .dataframe tbody tr th:only-of-type {\n",
       "        vertical-align: middle;\n",
       "    }\n",
       "\n",
       "    .dataframe tbody tr th {\n",
       "        vertical-align: top;\n",
       "    }\n",
       "\n",
       "    .dataframe thead th {\n",
       "        text-align: right;\n",
       "    }\n",
       "</style>\n",
       "<table border=\"1\" class=\"dataframe\">\n",
       "  <thead>\n",
       "    <tr style=\"text-align: right;\">\n",
       "      <th></th>\n",
       "      <th>Country</th>\n",
       "      <th>Crop</th>\n",
       "      <th>Year</th>\n",
       "      <th>yield</th>\n",
       "      <th>avg_rain</th>\n",
       "      <th>pesticide</th>\n",
       "      <th>avg_temp</th>\n",
       "    </tr>\n",
       "  </thead>\n",
       "  <tbody>\n",
       "    <tr>\n",
       "      <th>0</th>\n",
       "      <td>Albania</td>\n",
       "      <td>Maize</td>\n",
       "      <td>1990</td>\n",
       "      <td>36613</td>\n",
       "      <td>1485.0</td>\n",
       "      <td>121.00</td>\n",
       "      <td>16.37</td>\n",
       "    </tr>\n",
       "    <tr>\n",
       "      <th>1</th>\n",
       "      <td>Albania</td>\n",
       "      <td>Potatoes</td>\n",
       "      <td>1990</td>\n",
       "      <td>66667</td>\n",
       "      <td>1485.0</td>\n",
       "      <td>121.00</td>\n",
       "      <td>16.37</td>\n",
       "    </tr>\n",
       "    <tr>\n",
       "      <th>2</th>\n",
       "      <td>Albania</td>\n",
       "      <td>Rice, paddy</td>\n",
       "      <td>1990</td>\n",
       "      <td>23333</td>\n",
       "      <td>1485.0</td>\n",
       "      <td>121.00</td>\n",
       "      <td>16.37</td>\n",
       "    </tr>\n",
       "    <tr>\n",
       "      <th>3</th>\n",
       "      <td>Albania</td>\n",
       "      <td>Sorghum</td>\n",
       "      <td>1990</td>\n",
       "      <td>12500</td>\n",
       "      <td>1485.0</td>\n",
       "      <td>121.00</td>\n",
       "      <td>16.37</td>\n",
       "    </tr>\n",
       "    <tr>\n",
       "      <th>4</th>\n",
       "      <td>Albania</td>\n",
       "      <td>Soybeans</td>\n",
       "      <td>1990</td>\n",
       "      <td>7000</td>\n",
       "      <td>1485.0</td>\n",
       "      <td>121.00</td>\n",
       "      <td>16.37</td>\n",
       "    </tr>\n",
       "    <tr>\n",
       "      <th>...</th>\n",
       "      <td>...</td>\n",
       "      <td>...</td>\n",
       "      <td>...</td>\n",
       "      <td>...</td>\n",
       "      <td>...</td>\n",
       "      <td>...</td>\n",
       "      <td>...</td>\n",
       "    </tr>\n",
       "    <tr>\n",
       "      <th>28237</th>\n",
       "      <td>Zimbabwe</td>\n",
       "      <td>Rice, paddy</td>\n",
       "      <td>2013</td>\n",
       "      <td>22581</td>\n",
       "      <td>657.0</td>\n",
       "      <td>2550.07</td>\n",
       "      <td>19.76</td>\n",
       "    </tr>\n",
       "    <tr>\n",
       "      <th>28238</th>\n",
       "      <td>Zimbabwe</td>\n",
       "      <td>Sorghum</td>\n",
       "      <td>2013</td>\n",
       "      <td>3066</td>\n",
       "      <td>657.0</td>\n",
       "      <td>2550.07</td>\n",
       "      <td>19.76</td>\n",
       "    </tr>\n",
       "    <tr>\n",
       "      <th>28239</th>\n",
       "      <td>Zimbabwe</td>\n",
       "      <td>Soybeans</td>\n",
       "      <td>2013</td>\n",
       "      <td>13142</td>\n",
       "      <td>657.0</td>\n",
       "      <td>2550.07</td>\n",
       "      <td>19.76</td>\n",
       "    </tr>\n",
       "    <tr>\n",
       "      <th>28240</th>\n",
       "      <td>Zimbabwe</td>\n",
       "      <td>Sweet potatoes</td>\n",
       "      <td>2013</td>\n",
       "      <td>22222</td>\n",
       "      <td>657.0</td>\n",
       "      <td>2550.07</td>\n",
       "      <td>19.76</td>\n",
       "    </tr>\n",
       "    <tr>\n",
       "      <th>28241</th>\n",
       "      <td>Zimbabwe</td>\n",
       "      <td>Wheat</td>\n",
       "      <td>2013</td>\n",
       "      <td>22888</td>\n",
       "      <td>657.0</td>\n",
       "      <td>2550.07</td>\n",
       "      <td>19.76</td>\n",
       "    </tr>\n",
       "  </tbody>\n",
       "</table>\n",
       "<p>28242 rows × 7 columns</p>\n",
       "</div>"
      ],
      "text/plain": [
       "        Country            Crop  Year  yield  avg_rain  pesticide  avg_temp\n",
       "0       Albania           Maize  1990  36613    1485.0     121.00     16.37\n",
       "1       Albania        Potatoes  1990  66667    1485.0     121.00     16.37\n",
       "2       Albania     Rice, paddy  1990  23333    1485.0     121.00     16.37\n",
       "3       Albania         Sorghum  1990  12500    1485.0     121.00     16.37\n",
       "4       Albania        Soybeans  1990   7000    1485.0     121.00     16.37\n",
       "...         ...             ...   ...    ...       ...        ...       ...\n",
       "28237  Zimbabwe     Rice, paddy  2013  22581     657.0    2550.07     19.76\n",
       "28238  Zimbabwe         Sorghum  2013   3066     657.0    2550.07     19.76\n",
       "28239  Zimbabwe        Soybeans  2013  13142     657.0    2550.07     19.76\n",
       "28240  Zimbabwe  Sweet potatoes  2013  22222     657.0    2550.07     19.76\n",
       "28241  Zimbabwe           Wheat  2013  22888     657.0    2550.07     19.76\n",
       "\n",
       "[28242 rows x 7 columns]"
      ]
     },
     "execution_count": 47,
     "metadata": {},
     "output_type": "execute_result"
    }
   ],
   "source": [
    "df"
   ]
  },
  {
   "cell_type": "code",
   "execution_count": 49,
   "metadata": {
    "id": "5QG1pagV_nE6",
    "scrolled": false
   },
   "outputs": [
    {
     "name": "stdout",
     "output_type": "stream",
     "text": [
      "<class 'pandas.core.frame.DataFrame'>\n",
      "RangeIndex: 28242 entries, 0 to 28241\n",
      "Data columns (total 7 columns):\n",
      " #   Column     Non-Null Count  Dtype  \n",
      "---  ------     --------------  -----  \n",
      " 0   Country    28242 non-null  object \n",
      " 1   Crop       28242 non-null  object \n",
      " 2   Year       28242 non-null  int64  \n",
      " 3   yield      28242 non-null  int64  \n",
      " 4   avg_rain   28242 non-null  float64\n",
      " 5   pesticide  28242 non-null  float64\n",
      " 6   avg_temp   28242 non-null  float64\n",
      "dtypes: float64(3), int64(2), object(2)\n",
      "memory usage: 1.5+ MB\n"
     ]
    }
   ],
   "source": [
    "df.info()"
   ]
  },
  {
   "cell_type": "code",
   "execution_count": 50,
   "metadata": {},
   "outputs": [
    {
     "data": {
      "text/html": [
       "<div>\n",
       "<style scoped>\n",
       "    .dataframe tbody tr th:only-of-type {\n",
       "        vertical-align: middle;\n",
       "    }\n",
       "\n",
       "    .dataframe tbody tr th {\n",
       "        vertical-align: top;\n",
       "    }\n",
       "\n",
       "    .dataframe thead th {\n",
       "        text-align: right;\n",
       "    }\n",
       "</style>\n",
       "<table border=\"1\" class=\"dataframe\">\n",
       "  <thead>\n",
       "    <tr style=\"text-align: right;\">\n",
       "      <th></th>\n",
       "      <th>Year</th>\n",
       "      <th>yield</th>\n",
       "      <th>avg_rain</th>\n",
       "      <th>pesticide</th>\n",
       "      <th>avg_temp</th>\n",
       "    </tr>\n",
       "  </thead>\n",
       "  <tbody>\n",
       "    <tr>\n",
       "      <th>count</th>\n",
       "      <td>28242.000000</td>\n",
       "      <td>28242.000000</td>\n",
       "      <td>28242.00000</td>\n",
       "      <td>28242.000000</td>\n",
       "      <td>28242.000000</td>\n",
       "    </tr>\n",
       "    <tr>\n",
       "      <th>mean</th>\n",
       "      <td>2001.544296</td>\n",
       "      <td>77053.332094</td>\n",
       "      <td>1149.05598</td>\n",
       "      <td>37076.909344</td>\n",
       "      <td>20.542627</td>\n",
       "    </tr>\n",
       "    <tr>\n",
       "      <th>std</th>\n",
       "      <td>7.051905</td>\n",
       "      <td>84956.612897</td>\n",
       "      <td>709.81215</td>\n",
       "      <td>59958.784665</td>\n",
       "      <td>6.312051</td>\n",
       "    </tr>\n",
       "    <tr>\n",
       "      <th>min</th>\n",
       "      <td>1990.000000</td>\n",
       "      <td>50.000000</td>\n",
       "      <td>51.00000</td>\n",
       "      <td>0.040000</td>\n",
       "      <td>1.300000</td>\n",
       "    </tr>\n",
       "    <tr>\n",
       "      <th>25%</th>\n",
       "      <td>1995.000000</td>\n",
       "      <td>19919.250000</td>\n",
       "      <td>593.00000</td>\n",
       "      <td>1702.000000</td>\n",
       "      <td>16.702500</td>\n",
       "    </tr>\n",
       "    <tr>\n",
       "      <th>50%</th>\n",
       "      <td>2001.000000</td>\n",
       "      <td>38295.000000</td>\n",
       "      <td>1083.00000</td>\n",
       "      <td>17529.440000</td>\n",
       "      <td>21.510000</td>\n",
       "    </tr>\n",
       "    <tr>\n",
       "      <th>75%</th>\n",
       "      <td>2008.000000</td>\n",
       "      <td>104676.750000</td>\n",
       "      <td>1668.00000</td>\n",
       "      <td>48687.880000</td>\n",
       "      <td>26.000000</td>\n",
       "    </tr>\n",
       "    <tr>\n",
       "      <th>max</th>\n",
       "      <td>2013.000000</td>\n",
       "      <td>501412.000000</td>\n",
       "      <td>3240.00000</td>\n",
       "      <td>367778.000000</td>\n",
       "      <td>30.650000</td>\n",
       "    </tr>\n",
       "  </tbody>\n",
       "</table>\n",
       "</div>"
      ],
      "text/plain": [
       "               Year          yield     avg_rain      pesticide      avg_temp\n",
       "count  28242.000000   28242.000000  28242.00000   28242.000000  28242.000000\n",
       "mean    2001.544296   77053.332094   1149.05598   37076.909344     20.542627\n",
       "std        7.051905   84956.612897    709.81215   59958.784665      6.312051\n",
       "min     1990.000000      50.000000     51.00000       0.040000      1.300000\n",
       "25%     1995.000000   19919.250000    593.00000    1702.000000     16.702500\n",
       "50%     2001.000000   38295.000000   1083.00000   17529.440000     21.510000\n",
       "75%     2008.000000  104676.750000   1668.00000   48687.880000     26.000000\n",
       "max     2013.000000  501412.000000   3240.00000  367778.000000     30.650000"
      ]
     },
     "execution_count": 50,
     "metadata": {},
     "output_type": "execute_result"
    }
   ],
   "source": [
    "df. describe()"
   ]
  },
  {
   "cell_type": "code",
   "execution_count": 53,
   "metadata": {},
   "outputs": [
    {
     "data": {
      "text/html": [
       "<div>\n",
       "<style scoped>\n",
       "    .dataframe tbody tr th:only-of-type {\n",
       "        vertical-align: middle;\n",
       "    }\n",
       "\n",
       "    .dataframe tbody tr th {\n",
       "        vertical-align: top;\n",
       "    }\n",
       "\n",
       "    .dataframe thead th {\n",
       "        text-align: right;\n",
       "    }\n",
       "</style>\n",
       "<table border=\"1\" class=\"dataframe\">\n",
       "  <thead>\n",
       "    <tr style=\"text-align: right;\">\n",
       "      <th></th>\n",
       "      <th>Country</th>\n",
       "      <th>Year</th>\n",
       "      <th>yield</th>\n",
       "      <th>avg_rain</th>\n",
       "      <th>pesticide</th>\n",
       "      <th>avg_temp</th>\n",
       "    </tr>\n",
       "    <tr>\n",
       "      <th>Crop</th>\n",
       "      <th></th>\n",
       "      <th></th>\n",
       "      <th></th>\n",
       "      <th></th>\n",
       "      <th></th>\n",
       "      <th></th>\n",
       "    </tr>\n",
       "  </thead>\n",
       "  <tbody>\n",
       "    <tr>\n",
       "      <th>Cassava</th>\n",
       "      <td>2045</td>\n",
       "      <td>2045</td>\n",
       "      <td>2045</td>\n",
       "      <td>2045</td>\n",
       "      <td>2045</td>\n",
       "      <td>2045</td>\n",
       "    </tr>\n",
       "    <tr>\n",
       "      <th>Maize</th>\n",
       "      <td>4121</td>\n",
       "      <td>4121</td>\n",
       "      <td>4121</td>\n",
       "      <td>4121</td>\n",
       "      <td>4121</td>\n",
       "      <td>4121</td>\n",
       "    </tr>\n",
       "    <tr>\n",
       "      <th>Plantains and others</th>\n",
       "      <td>556</td>\n",
       "      <td>556</td>\n",
       "      <td>556</td>\n",
       "      <td>556</td>\n",
       "      <td>556</td>\n",
       "      <td>556</td>\n",
       "    </tr>\n",
       "    <tr>\n",
       "      <th>Potatoes</th>\n",
       "      <td>4276</td>\n",
       "      <td>4276</td>\n",
       "      <td>4276</td>\n",
       "      <td>4276</td>\n",
       "      <td>4276</td>\n",
       "      <td>4276</td>\n",
       "    </tr>\n",
       "    <tr>\n",
       "      <th>Rice, paddy</th>\n",
       "      <td>3388</td>\n",
       "      <td>3388</td>\n",
       "      <td>3388</td>\n",
       "      <td>3388</td>\n",
       "      <td>3388</td>\n",
       "      <td>3388</td>\n",
       "    </tr>\n",
       "    <tr>\n",
       "      <th>Sorghum</th>\n",
       "      <td>3039</td>\n",
       "      <td>3039</td>\n",
       "      <td>3039</td>\n",
       "      <td>3039</td>\n",
       "      <td>3039</td>\n",
       "      <td>3039</td>\n",
       "    </tr>\n",
       "    <tr>\n",
       "      <th>Soybeans</th>\n",
       "      <td>3223</td>\n",
       "      <td>3223</td>\n",
       "      <td>3223</td>\n",
       "      <td>3223</td>\n",
       "      <td>3223</td>\n",
       "      <td>3223</td>\n",
       "    </tr>\n",
       "    <tr>\n",
       "      <th>Sweet potatoes</th>\n",
       "      <td>2890</td>\n",
       "      <td>2890</td>\n",
       "      <td>2890</td>\n",
       "      <td>2890</td>\n",
       "      <td>2890</td>\n",
       "      <td>2890</td>\n",
       "    </tr>\n",
       "    <tr>\n",
       "      <th>Wheat</th>\n",
       "      <td>3857</td>\n",
       "      <td>3857</td>\n",
       "      <td>3857</td>\n",
       "      <td>3857</td>\n",
       "      <td>3857</td>\n",
       "      <td>3857</td>\n",
       "    </tr>\n",
       "    <tr>\n",
       "      <th>Yams</th>\n",
       "      <td>847</td>\n",
       "      <td>847</td>\n",
       "      <td>847</td>\n",
       "      <td>847</td>\n",
       "      <td>847</td>\n",
       "      <td>847</td>\n",
       "    </tr>\n",
       "  </tbody>\n",
       "</table>\n",
       "</div>"
      ],
      "text/plain": [
       "                      Country  Year  yield  avg_rain  pesticide  avg_temp\n",
       "Crop                                                                     \n",
       "Cassava                  2045  2045   2045      2045       2045      2045\n",
       "Maize                    4121  4121   4121      4121       4121      4121\n",
       "Plantains and others      556   556    556       556        556       556\n",
       "Potatoes                 4276  4276   4276      4276       4276      4276\n",
       "Rice, paddy              3388  3388   3388      3388       3388      3388\n",
       "Sorghum                  3039  3039   3039      3039       3039      3039\n",
       "Soybeans                 3223  3223   3223      3223       3223      3223\n",
       "Sweet potatoes           2890  2890   2890      2890       2890      2890\n",
       "Wheat                    3857  3857   3857      3857       3857      3857\n",
       "Yams                      847   847    847       847        847       847"
      ]
     },
     "execution_count": 53,
     "metadata": {},
     "output_type": "execute_result"
    }
   ],
   "source": [
    "df.groupby(\"Crop\").count()"
   ]
  },
  {
   "cell_type": "code",
   "execution_count": 55,
   "metadata": {},
   "outputs": [
    {
     "data": {
      "text/html": [
       "<div>\n",
       "<style scoped>\n",
       "    .dataframe tbody tr th:only-of-type {\n",
       "        vertical-align: middle;\n",
       "    }\n",
       "\n",
       "    .dataframe tbody tr th {\n",
       "        vertical-align: top;\n",
       "    }\n",
       "\n",
       "    .dataframe thead th {\n",
       "        text-align: right;\n",
       "    }\n",
       "</style>\n",
       "<table border=\"1\" class=\"dataframe\">\n",
       "  <thead>\n",
       "    <tr style=\"text-align: right;\">\n",
       "      <th></th>\n",
       "      <th>Year</th>\n",
       "      <th>yield</th>\n",
       "      <th>avg_rain</th>\n",
       "      <th>pesticide</th>\n",
       "      <th>avg_temp</th>\n",
       "    </tr>\n",
       "    <tr>\n",
       "      <th>Crop</th>\n",
       "      <th></th>\n",
       "      <th></th>\n",
       "      <th></th>\n",
       "      <th></th>\n",
       "      <th></th>\n",
       "    </tr>\n",
       "  </thead>\n",
       "  <tbody>\n",
       "    <tr>\n",
       "      <th>Cassava</th>\n",
       "      <td>2001.445477</td>\n",
       "      <td>150479.466993</td>\n",
       "      <td>1481.128606</td>\n",
       "      <td>44181.307457</td>\n",
       "      <td>24.205756</td>\n",
       "    </tr>\n",
       "    <tr>\n",
       "      <th>Maize</th>\n",
       "      <td>2001.553749</td>\n",
       "      <td>36310.070614</td>\n",
       "      <td>1098.124242</td>\n",
       "      <td>32765.983322</td>\n",
       "      <td>19.925159</td>\n",
       "    </tr>\n",
       "    <tr>\n",
       "      <th>Plantains and others</th>\n",
       "      <td>2001.507194</td>\n",
       "      <td>106041.320144</td>\n",
       "      <td>1853.928058</td>\n",
       "      <td>7931.009874</td>\n",
       "      <td>24.243543</td>\n",
       "    </tr>\n",
       "    <tr>\n",
       "      <th>Potatoes</th>\n",
       "      <td>2001.577877</td>\n",
       "      <td>199801.549579</td>\n",
       "      <td>1060.399205</td>\n",
       "      <td>32152.516104</td>\n",
       "      <td>19.007725</td>\n",
       "    </tr>\n",
       "    <tr>\n",
       "      <th>Rice, paddy</th>\n",
       "      <td>2001.475207</td>\n",
       "      <td>40730.434770</td>\n",
       "      <td>1186.672963</td>\n",
       "      <td>36942.215995</td>\n",
       "      <td>21.265378</td>\n",
       "    </tr>\n",
       "    <tr>\n",
       "      <th>Sorghum</th>\n",
       "      <td>2001.635735</td>\n",
       "      <td>18635.777229</td>\n",
       "      <td>1017.179664</td>\n",
       "      <td>36742.457529</td>\n",
       "      <td>21.431586</td>\n",
       "    </tr>\n",
       "    <tr>\n",
       "      <th>Soybeans</th>\n",
       "      <td>2001.585479</td>\n",
       "      <td>16731.092771</td>\n",
       "      <td>1110.774744</td>\n",
       "      <td>40752.554896</td>\n",
       "      <td>19.660279</td>\n",
       "    </tr>\n",
       "    <tr>\n",
       "      <th>Sweet potatoes</th>\n",
       "      <td>2001.488927</td>\n",
       "      <td>119057.793772</td>\n",
       "      <td>1232.128028</td>\n",
       "      <td>39448.289848</td>\n",
       "      <td>22.178668</td>\n",
       "    </tr>\n",
       "    <tr>\n",
       "      <th>Wheat</th>\n",
       "      <td>2001.544724</td>\n",
       "      <td>30116.267825</td>\n",
       "      <td>957.285974</td>\n",
       "      <td>35453.212930</td>\n",
       "      <td>18.131623</td>\n",
       "    </tr>\n",
       "    <tr>\n",
       "      <th>Yams</th>\n",
       "      <td>2001.570248</td>\n",
       "      <td>114140.345927</td>\n",
       "      <td>1638.162928</td>\n",
       "      <td>71945.976068</td>\n",
       "      <td>22.695726</td>\n",
       "    </tr>\n",
       "  </tbody>\n",
       "</table>\n",
       "</div>"
      ],
      "text/plain": [
       "                             Year          yield     avg_rain     pesticide  \\\n",
       "Crop                                                                          \n",
       "Cassava               2001.445477  150479.466993  1481.128606  44181.307457   \n",
       "Maize                 2001.553749   36310.070614  1098.124242  32765.983322   \n",
       "Plantains and others  2001.507194  106041.320144  1853.928058   7931.009874   \n",
       "Potatoes              2001.577877  199801.549579  1060.399205  32152.516104   \n",
       "Rice, paddy           2001.475207   40730.434770  1186.672963  36942.215995   \n",
       "Sorghum               2001.635735   18635.777229  1017.179664  36742.457529   \n",
       "Soybeans              2001.585479   16731.092771  1110.774744  40752.554896   \n",
       "Sweet potatoes        2001.488927  119057.793772  1232.128028  39448.289848   \n",
       "Wheat                 2001.544724   30116.267825   957.285974  35453.212930   \n",
       "Yams                  2001.570248  114140.345927  1638.162928  71945.976068   \n",
       "\n",
       "                       avg_temp  \n",
       "Crop                             \n",
       "Cassava               24.205756  \n",
       "Maize                 19.925159  \n",
       "Plantains and others  24.243543  \n",
       "Potatoes              19.007725  \n",
       "Rice, paddy           21.265378  \n",
       "Sorghum               21.431586  \n",
       "Soybeans              19.660279  \n",
       "Sweet potatoes        22.178668  \n",
       "Wheat                 18.131623  \n",
       "Yams                  22.695726  "
      ]
     },
     "execution_count": 55,
     "metadata": {},
     "output_type": "execute_result"
    }
   ],
   "source": [
    "df.groupby(\"Crop\").mean()"
   ]
  },
  {
   "cell_type": "code",
   "execution_count": 56,
   "metadata": {},
   "outputs": [],
   "source": [
    "from sklearn.preprocessing import OneHotEncoder\n"
   ]
  },
  {
   "cell_type": "code",
   "execution_count": 58,
   "metadata": {},
   "outputs": [
    {
     "data": {
      "text/plain": [
       "[array(['Albania', 'Algeria', 'Angola', 'Argentina', 'Armenia',\n",
       "        'Australia', 'Austria', 'Azerbaijan', 'Bahamas', 'Bahrain',\n",
       "        'Bangladesh', 'Belarus', 'Belgium', 'Botswana', 'Brazil',\n",
       "        'Bulgaria', 'Burkina Faso', 'Burundi', 'Cameroon', 'Canada',\n",
       "        'Central African Republic', 'Chile', 'Colombia', 'Croatia',\n",
       "        'Denmark', 'Dominican Republic', 'Ecuador', 'Egypt', 'El Salvador',\n",
       "        'Eritrea', 'Estonia', 'Finland', 'France', 'Germany', 'Ghana',\n",
       "        'Greece', 'Guatemala', 'Guinea', 'Guyana', 'Haiti', 'Honduras',\n",
       "        'Hungary', 'India', 'Indonesia', 'Iraq', 'Ireland', 'Italy',\n",
       "        'Jamaica', 'Japan', 'Kazakhstan', 'Kenya', 'Latvia', 'Lebanon',\n",
       "        'Lesotho', 'Libya', 'Lithuania', 'Madagascar', 'Malawi',\n",
       "        'Malaysia', 'Mali', 'Mauritania', 'Mauritius', 'Mexico',\n",
       "        'Montenegro', 'Morocco', 'Mozambique', 'Namibia', 'Nepal',\n",
       "        'Netherlands', 'New Zealand', 'Nicaragua', 'Niger', 'Norway',\n",
       "        'Pakistan', 'Papua New Guinea', 'Peru', 'Poland', 'Portugal',\n",
       "        'Qatar', 'Romania', 'Rwanda', 'Saudi Arabia', 'Senegal',\n",
       "        'Slovenia', 'South Africa', 'Spain', 'Sri Lanka', 'Sudan',\n",
       "        'Suriname', 'Sweden', 'Switzerland', 'Tajikistan', 'Thailand',\n",
       "        'Tunisia', 'Turkey', 'Uganda', 'Ukraine', 'United Kingdom',\n",
       "        'Uruguay', 'Zambia', 'Zimbabwe'], dtype=object),\n",
       " array(['Cassava', 'Maize', 'Plantains and others', 'Potatoes',\n",
       "        'Rice, paddy', 'Sorghum', 'Soybeans', 'Sweet potatoes', 'Wheat',\n",
       "        'Yams'], dtype=object),\n",
       " array([1990, 1991, 1992, 1993, 1994, 1995, 1996, 1997, 1998, 1999, 2000,\n",
       "        2001, 2002, 2004, 2005, 2006, 2007, 2008, 2009, 2010, 2011, 2012,\n",
       "        2013], dtype=int64),\n",
       " array([    50,     80,    100, ..., 490361, 495751, 501412], dtype=int64),\n",
       " array([  51.,   56.,   59.,   74.,   83.,   89.,   92.,  151.,  207.,\n",
       "         216.,  241.,  250.,  282.,  285.,  346.,  383.,  416.,  447.,\n",
       "         494.,  495.,  534.,  536.,  537.,  562.,  565.,  589.,  591.,\n",
       "         593.,  600.,  608.,  618.,  624.,  626.,  630.,  636.,  637.,\n",
       "         641.,  652.,  656.,  657.,  661.,  686.,  691.,  700.,  703.,\n",
       "         748.,  758.,  778.,  788.,  832.,  847.,  854.,  867., 1010.,\n",
       "        1020., 1032., 1083., 1110., 1113., 1118., 1162., 1180., 1181.,\n",
       "        1187., 1212., 1220., 1274., 1292., 1300., 1342., 1410., 1414.,\n",
       "        1440., 1485., 1500., 1513., 1522., 1537., 1604., 1622., 1651.,\n",
       "        1668., 1712., 1732., 1738., 1761., 1784., 1976., 1996., 2041.,\n",
       "        2051., 2274., 2280., 2331., 2387., 2666., 2702., 2875., 3142.,\n",
       "        3240.]),\n",
       " array([4.00000e-02, 2.50000e-01, 3.00000e-01, ..., 3.45026e+05,\n",
       "        3.46583e+05, 3.67778e+05]),\n",
       " array([ 1.3 ,  1.61,  1.63, ..., 30.32, 30.42, 30.65])]"
      ]
     },
     "execution_count": 58,
     "metadata": {},
     "output_type": "execute_result"
    }
   ],
   "source": [
    "enc = OneHotEncoder(handle_unknown='ignore')\n",
    "enc.fit(df)\n",
    "enc.categories_"
   ]
  },
  {
   "cell_type": "code",
   "execution_count": 60,
   "metadata": {},
   "outputs": [
    {
     "data": {
      "text/plain": [
       "array([[1., 0., 0., ..., 0., 0., 0.],\n",
       "       [1., 0., 0., ..., 0., 0., 0.],\n",
       "       [1., 0., 0., ..., 0., 0., 0.],\n",
       "       ...,\n",
       "       [0., 0., 0., ..., 0., 0., 0.],\n",
       "       [0., 0., 0., ..., 0., 0., 0.],\n",
       "       [0., 0., 0., ..., 0., 0., 0.]])"
      ]
     },
     "execution_count": 60,
     "metadata": {},
     "output_type": "execute_result"
    }
   ],
   "source": [
    "enc.transform(df).toarray()"
   ]
  },
  {
   "cell_type": "code",
   "execution_count": null,
   "metadata": {},
   "outputs": [],
   "source": []
  }
 ],
 "metadata": {
  "colab": {
   "provenance": []
  },
  "kernelspec": {
   "display_name": "Python 3 (ipykernel)",
   "language": "python",
   "name": "python3"
  },
  "language_info": {
   "codemirror_mode": {
    "name": "ipython",
    "version": 3
   },
   "file_extension": ".py",
   "mimetype": "text/x-python",
   "name": "python",
   "nbconvert_exporter": "python",
   "pygments_lexer": "ipython3",
   "version": "3.9.13"
  }
 },
 "nbformat": 4,
 "nbformat_minor": 1
}
